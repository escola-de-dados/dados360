{
 "cells": [
  {
   "cell_type": "markdown",
   "metadata": {},
   "source": [
    "# Notebook em R para baixar filiados a partidos\n",
    "\n",
    "Estes códigos foram elaborados no curso Dados 360 para fins didáticos, visando dar uma introdução à lógica por trás da programação. Não necessariamente as funções utilizadas aqui são as mais rápidas ou mais eficientes para lidar com os dados em escala.\n",
    "\n",
    "Confira a página com a lista dos arquivos ZIP, no site do TSE: [https://www.tse.jus.br/hotsites/pesquisas-eleitorais/filiacao_partidaria.htm](https://www.tse.jus.br/hotsites/pesquisas-eleitorais/filiacao_partidaria.htm)"
   ]
  },
  {
   "cell_type": "code",
   "execution_count": 26,
   "metadata": {},
   "outputs": [
    {
     "name": "stderr",
     "output_type": "stream",
     "text": [
      "Installing package into ‘/srv/rlibs’\n",
      "(as ‘lib’ is unspecified)\n",
      "\n"
     ]
    }
   ],
   "source": [
    "# Instala os pacotes\n",
    "install.packages(\"plyr\")"
   ]
  },
  {
   "cell_type": "code",
   "execution_count": 27,
   "metadata": {},
   "outputs": [],
   "source": [
    "# Carrega os pacotes\n",
    "library(\"plyr\")"
   ]
  },
  {
   "cell_type": "code",
   "execution_count": 28,
   "metadata": {},
   "outputs": [],
   "source": [
    "# Variáveis\n",
    "partidos =  c(\"pstu\", \"phs\",\"pco\")\n",
    "url_base = \"http://cdn.tse.jus.br/estatistica/sead/odsele/filiacao_partidaria/filiados_\"\n"
   ]
  },
  {
   "cell_type": "code",
   "execution_count": 29,
   "metadata": {},
   "outputs": [
    {
     "name": "stdout",
     "output_type": "stream",
     "text": [
      "[1] \"http://cdn.tse.jus.br/estatistica/sead/odsele/filiacao_partidaria/filiados_pstu.zip\"\n",
      "[1] \"http://cdn.tse.jus.br/estatistica/sead/odsele/filiacao_partidaria/filiados_phs.zip\"\n",
      "[1] \"http://cdn.tse.jus.br/estatistica/sead/odsele/filiacao_partidaria/filiados_pco.zip\"\n"
     ]
    }
   ],
   "source": [
    "## Loop para baixar os arquivos\n",
    "for(partido in partidos){\n",
    "    \n",
    "    url = paste0(url_base,partido,\".zip\")\n",
    "    nome_arquivo = paste0(partido,\".zip\")\n",
    "    \n",
    "    print(url)\n",
    "    \n",
    "    download.file(url,\n",
    "      nome_arquivo, mode = \"wb\")\n",
    "    }"
   ]
  },
  {
   "cell_type": "code",
   "execution_count": 31,
   "metadata": {},
   "outputs": [
    {
     "data": {
      "text/html": [
       "<style>\n",
       ".list-inline {list-style: none; margin:0; padding: 0}\n",
       ".list-inline>li {display: inline-block}\n",
       ".list-inline>li:not(:last-child)::after {content: \"\\00b7\"; padding: 0 .5ex}\n",
       "</style>\n",
       "<ol class=list-inline><li>'pco.zip'</li><li>'phs.zip'</li><li>'pstu.zip'</li></ol>\n"
      ],
      "text/latex": [
       "\\begin{enumerate*}\n",
       "\\item 'pco.zip'\n",
       "\\item 'phs.zip'\n",
       "\\item 'pstu.zip'\n",
       "\\end{enumerate*}\n"
      ],
      "text/markdown": [
       "1. 'pco.zip'\n",
       "2. 'phs.zip'\n",
       "3. 'pstu.zip'\n",
       "\n",
       "\n"
      ],
      "text/plain": [
       "[1] \"pco.zip\"  \"phs.zip\"  \"pstu.zip\""
      ]
     },
     "metadata": {},
     "output_type": "display_data"
    }
   ],
   "source": [
    "# Lista os arquivos ZIP\n",
    "arquivos_zip = list.files(pattern = \"*.zip\")\n",
    "arquivos_zip"
   ]
  },
  {
   "cell_type": "code",
   "execution_count": 33,
   "metadata": {},
   "outputs": [
    {
     "data": {
      "text/html": [
       "<table class=\"dataframe\">\n",
       "<caption>A data.frame: 3 × 2</caption>\n",
       "<thead>\n",
       "\t<tr><th scope=col>V1</th><th scope=col>V2</th></tr>\n",
       "\t<tr><th scope=col>&lt;chr&gt;</th><th scope=col>&lt;chr&gt;</th></tr>\n",
       "</thead>\n",
       "<tbody>\n",
       "\t<tr><td>./leiame.pdf</td><td>./filiados_pco.csv </td></tr>\n",
       "\t<tr><td>./leiame.pdf</td><td>./filiados_phs.csv </td></tr>\n",
       "\t<tr><td>./leiame.pdf</td><td>./filiados_pstu.csv</td></tr>\n",
       "</tbody>\n",
       "</table>\n"
      ],
      "text/latex": [
       "A data.frame: 3 × 2\n",
       "\\begin{tabular}{ll}\n",
       " V1 & V2\\\\\n",
       " <chr> & <chr>\\\\\n",
       "\\hline\n",
       "\t ./leiame.pdf & ./filiados\\_pco.csv \\\\\n",
       "\t ./leiame.pdf & ./filiados\\_phs.csv \\\\\n",
       "\t ./leiame.pdf & ./filiados\\_pstu.csv\\\\\n",
       "\\end{tabular}\n"
      ],
      "text/markdown": [
       "\n",
       "A data.frame: 3 × 2\n",
       "\n",
       "| V1 &lt;chr&gt; | V2 &lt;chr&gt; |\n",
       "|---|---|\n",
       "| ./leiame.pdf | ./filiados_pco.csv  |\n",
       "| ./leiame.pdf | ./filiados_phs.csv  |\n",
       "| ./leiame.pdf | ./filiados_pstu.csv |\n",
       "\n"
      ],
      "text/plain": [
       "  V1           V2                 \n",
       "1 ./leiame.pdf ./filiados_pco.csv \n",
       "2 ./leiame.pdf ./filiados_phs.csv \n",
       "3 ./leiame.pdf ./filiados_pstu.csv"
      ]
     },
     "metadata": {},
     "output_type": "display_data"
    }
   ],
   "source": [
    "# Descompacta os arquivos ZIP\n",
    "ldply(.data = arquivos_zip, .fun = unzip)"
   ]
  },
  {
   "cell_type": "code",
   "execution_count": 34,
   "metadata": {},
   "outputs": [],
   "source": [
    "# Lista os arquivos CSV\n",
    "arquivos_csv = list.files(pattern = \"*.csv\")"
   ]
  },
  {
   "cell_type": "code",
   "execution_count": 35,
   "metadata": {},
   "outputs": [],
   "source": [
    "# Junta todos os arquivos em uma só base\n",
    "filiados = ldply(.data = arquivos_csv, .fun = read.csv2)"
   ]
  },
  {
   "cell_type": "code",
   "execution_count": 36,
   "metadata": {},
   "outputs": [
    {
     "data": {
      "text/plain": [
       "   DATA.DA.EXTRACAO HORA.DA.EXTRACAO NUMERO.DA.INSCRICAO\n",
       " 30/04/2021:29153   03:51:24: 6509   Min.   :1.253e+06  \n",
       "                    03:51:56:  254   1st Qu.:1.345e+10  \n",
       "                    03:54:43:22390   Median :3.973e+10  \n",
       "                                     Mean   :7.740e+10  \n",
       "                                     3rd Qu.:1.047e+11  \n",
       "                                     Max.   :5.122e+11  \n",
       "                                                        \n",
       "                 NOME.DO.FILIADO  SIGLA.DO.PARTIDO\n",
       " MARIA APARECIDA DA SILVA:   14   PCO : 6509      \n",
       " MARIA JOSE DOS SANTOS   :   13   PHS :  254      \n",
       " JOSE ANTONIO DA SILVA   :    7   PSTU:22390      \n",
       " JOSE ANTONIO DOS SANTOS :    7                   \n",
       " MARIA JOSE DA SILVA     :    7                   \n",
       " RAIMUNDO NONATO DA SILVA:    6                   \n",
       " (Other)                 :29099                   \n",
       " NOME.DO.PARTIDO                                               UF       \n",
       " PARTIDO DA CAUSA OPER\\xc1RIA                   : 6509   SP     : 6776  \n",
       " PARTIDO HUMANISTA DA SOLIDARIEDADE             :  254   MG     : 2804  \n",
       " PARTIDO SOCIALISTA  DOS TRABALHADORES UNIFICADO:22390   RJ     : 2700  \n",
       "                                                         CE     : 2609  \n",
       "                                                         RN     : 1462  \n",
       "                                                         BA     : 1294  \n",
       "                                                         (Other):11508  \n",
       " CODIGO.DO.MUNICIPIO NOME.DO.MUNICIPIO                 ZONA.ELEITORAL \n",
       " Min.   :   35       S\\xc3O PAULO             : 1673   Min.   :  1.0  \n",
       " 1st Qu.:17752       S\\xc3O JOS\\xc9 DOS CAMPOS:  917   1st Qu.: 18.0  \n",
       " Median :56049       BRAS\\xcdLIA              :  750   Median : 60.0  \n",
       " Mean   :47521       BEL\\xc9M                 :  691   Mean   :111.8  \n",
       " 3rd Qu.:70998       RIO DE JANEIRO           :  665   3rd Qu.:163.0  \n",
       " Max.   :99015       BELO HORIZONTE           :  586   Max.   :426.0  \n",
       "                     (Other)                  :23871                  \n",
       " SECAO.ELEITORAL    DATA.DA.FILIACAO SITUACAO.DO.REGISTRO TIPO.DO.REGISTRO\n",
       " Min.   :   1.0   27/03/1995:  968   CANCELADO : 8506     OFICIAL:29153   \n",
       " 1st Qu.:  57.0   01/01/2020:  940   DESFILIADO:  660                     \n",
       " Median : 138.0   01/01/2018:  903   REGULAR   :19987                     \n",
       " Mean   : 192.4   04/04/1995:  872                                        \n",
       " 3rd Qu.: 280.0   15/12/1995:  808                                        \n",
       " Max.   :2962.0   30/09/2003:  651                                        \n",
       " NA's   :1055     (Other)   :24011                                        \n",
       " DATA.DO.PROCESSAMENTO DATA.DA.DESFILIACAO DATA.DO.CANCELAMENTO\n",
       "           :27042                :24827              :21783    \n",
       " 16/04/2020: 1569      15/04/2013:  270    15/10/2019: 2586    \n",
       " 01/12/2020:  248      14/06/2013:  160    16/04/2020:  429    \n",
       " 13/04/2021:  179      10/10/2013:  151    16/10/2019:  222    \n",
       " 15/04/2016:   51      05/07/2004:  125    04/01/2010:  131    \n",
       " 14/04/2018:   28      31/10/2015:   90    13/04/2021:  130    \n",
       " (Other)   :   36      (Other)   : 3530    (Other)   : 3872    \n",
       " DATA.DA.REGULARIZACAO                MOTIVO.DO.CANCELAMENTO\n",
       " Min.   :1.000                                   :23320     \n",
       " 1st Qu.:1.000         A PEDIDO DO ELEITOR       :  747     \n",
       " Median :1.000         A PEDIDO DO PARTIDO       :  127     \n",
       " Mean   :1.001         CANCELAMENTO AUTOM\\xc1TICO: 2832     \n",
       " 3rd Qu.:1.000         JUDICIAL                  : 2127     \n",
       " Max.   :7.000                                              \n",
       " NA's   :6509                                               "
      ]
     },
     "metadata": {},
     "output_type": "display_data"
    }
   ],
   "source": [
    "# Faz um resumo do arquivo\n",
    "summary(filiados)\n"
   ]
  },
  {
   "cell_type": "code",
   "execution_count": 37,
   "metadata": {},
   "outputs": [
    {
     "data": {
      "text/plain": [
       "    \n",
       "      PCO  PHS PSTU\n",
       "  AC   57    0  119\n",
       "  AL   91    0  317\n",
       "  AM  306    0  205\n",
       "  AP    9    0  369\n",
       "  BA  890   33  371\n",
       "  CE  130    2 2477\n",
       "  DF  142    0  608\n",
       "  ES  221    0  629\n",
       "  GO  147    0  397\n",
       "  MA   63   72  413\n",
       "  MG 1094   33 1677\n",
       "  MS   65    0  532\n",
       "  MT   33    2  139\n",
       "  PA   30    0 1117\n",
       "  PB  181    0  136\n",
       "  PE  198   60  396\n",
       "  PI   78    0  292\n",
       "  PR  129    0  319\n",
       "  RJ  466    0 2234\n",
       "  RN   77    3 1382\n",
       "  RO   30    0  521\n",
       "  RR   75    0   32\n",
       "  RS  226    4 1045\n",
       "  SC   80    0  366\n",
       "  SE  137    1 1063\n",
       "  SP 1541   44 5191\n",
       "  TO    4    0   17\n",
       "  ZZ    9    0   26"
      ]
     },
     "metadata": {},
     "output_type": "display_data"
    }
   ],
   "source": [
    "# Conta o número de linhas por partido e UF\n",
    "table(filiados$UF, filiados$SIGLA.DO.PARTIDO)"
   ]
  }
 ],
 "metadata": {
  "kernelspec": {
   "display_name": "R",
   "language": "R",
   "name": "ir"
  },
  "language_info": {
   "codemirror_mode": "r",
   "file_extension": ".r",
   "mimetype": "text/x-r-source",
   "name": "R",
   "pygments_lexer": "r",
   "version": "3.6.3"
  }
 },
 "nbformat": 4,
 "nbformat_minor": 2
}
